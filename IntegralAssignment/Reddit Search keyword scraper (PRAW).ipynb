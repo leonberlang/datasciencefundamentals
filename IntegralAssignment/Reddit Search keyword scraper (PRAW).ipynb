{
 "cells": [
  {
   "cell_type": "code",
   "execution_count": 5,
   "metadata": {},
   "outputs": [],
   "source": [
    "import praw\n",
    "import os\n",
    "import pandas as pd\n",
    "import numpy as np\n",
    "from wordcloud import WordCloud \n",
    "from PIL import Image\n",
    "import random\n",
    "import datetime\n",
    "import time"
   ]
  },
  {
   "cell_type": "code",
   "execution_count": 6,
   "metadata": {},
   "outputs": [],
   "source": [
    "CLIENT_ID = \"Co_p839bA_wjqA\"\n",
    "CLIENT_SECRET = \"XItgYS7EFva2lvU2GOr4gVKvULc\"\n",
    "USER_AGENT = f\"python:{CLIENT_ID}:0.1 (by /u/Voidskiz)\""
   ]
  },
  {
   "cell_type": "code",
   "execution_count": 7,
   "metadata": {},
   "outputs": [],
   "source": [
    "api = praw.Reddit(\n",
    "    client_id = CLIENT_ID,\n",
    "    client_secret = CLIENT_SECRET,\n",
    "    user_agent = USER_AGENT\n",
    ")"
   ]
  },
  {
   "cell_type": "code",
   "execution_count": 8,
   "metadata": {},
   "outputs": [
    {
     "name": "stdout",
     "output_type": "stream",
     "text": [
      "Subreddit to search: thenetherlands\n",
      "Search Query: zwarte piet\n"
     ]
    }
   ],
   "source": [
    "sub = input(\"Subreddit to search: \").strip()\n",
    "query = input(\"Search Query: \").strip()\n",
    "\n",
    "submisions = api.subreddit(sub).search(query)\n",
    "\n",
    "posts = []\n",
    "\n",
    "def redditcall():\n",
    "    for submission in submisions:\n",
    "        item = {\n",
    "            \"title\" : submission.title,\n",
    "            \"score\" : submission.score,\n",
    "            \"comments\" : submission.num_comments,\n",
    "            \"author\" : submission.author,\n",
    "            \"time\" : time.ctime(submission.created_utc),\n",
    "            \"id\" : submission.id,\n",
    "            \"permalink\": submission.permalink,\n",
    "            #\"url\": submission.url,\n",
    "        }\n",
    "        posts.append(item)\n",
    "        \n",
    "redditcall()"
   ]
  },
  {
   "cell_type": "code",
   "execution_count": 9,
   "metadata": {},
   "outputs": [
    {
     "data": {
      "text/html": [
       "<div>\n",
       "<style scoped>\n",
       "    .dataframe tbody tr th:only-of-type {\n",
       "        vertical-align: middle;\n",
       "    }\n",
       "\n",
       "    .dataframe tbody tr th {\n",
       "        vertical-align: top;\n",
       "    }\n",
       "\n",
       "    .dataframe thead th {\n",
       "        text-align: right;\n",
       "    }\n",
       "</style>\n",
       "<table border=\"1\" class=\"dataframe\">\n",
       "  <thead>\n",
       "    <tr style=\"text-align: right;\">\n",
       "      <th></th>\n",
       "      <th>author</th>\n",
       "      <th>comments</th>\n",
       "      <th>id</th>\n",
       "      <th>permalink</th>\n",
       "      <th>score</th>\n",
       "      <th>time</th>\n",
       "      <th>title</th>\n",
       "    </tr>\n",
       "  </thead>\n",
       "  <tbody>\n",
       "    <tr>\n",
       "      <th>15</th>\n",
       "      <td>Mortress</td>\n",
       "      <td>422</td>\n",
       "      <td>593l63</td>\n",
       "      <td>/r/thenetherlands/comments/593l63/rtl_stopt_me...</td>\n",
       "      <td>162</td>\n",
       "      <td>Mon Oct 24 11:12:50 2016</td>\n",
       "      <td>RTL stopt met Zwarte Piet, voortaan alleen pie...</td>\n",
       "    </tr>\n",
       "  </tbody>\n",
       "</table>\n",
       "</div>"
      ],
      "text/plain": [
       "      author  comments      id  \\\n",
       "15  Mortress       422  593l63   \n",
       "\n",
       "                                            permalink  score  \\\n",
       "15  /r/thenetherlands/comments/593l63/rtl_stopt_me...    162   \n",
       "\n",
       "                        time  \\\n",
       "15  Mon Oct 24 11:12:50 2016   \n",
       "\n",
       "                                                title  \n",
       "15  RTL stopt met Zwarte Piet, voortaan alleen pie...  "
      ]
     },
     "execution_count": 9,
     "metadata": {},
     "output_type": "execute_result"
    }
   ],
   "source": [
    "# Checking if we actually got some data\n",
    "df = pd.DataFrame(posts)\n",
    "sorted_df = df.sort_values(\"comments\")\n",
    "sorted_df.tail(1)"
   ]
  },
  {
   "cell_type": "code",
   "execution_count": 10,
   "metadata": {},
   "outputs": [
    {
     "name": "stdout",
     "output_type": "stream",
     "text": [
      "95 posts with 5 or more comments.\n"
     ]
    }
   ],
   "source": [
    "c_posts = []\n",
    "\n",
    "# Only getting posts with at least a few comments\n",
    "for item in posts:\n",
    "    if item[\"comments\"] >= 5:\n",
    "        c_posts.append(item)\n",
    "\n",
    "# Getting threads with at least 5 comments \n",
    "posts_amount = len(posts)\n",
    "c_posts_amount = len(c_posts)\n",
    "print(f'{c_posts_amount} posts with 5 or more comments.')"
   ]
  },
  {
   "cell_type": "code",
   "execution_count": 11,
   "metadata": {},
   "outputs": [
    {
     "data": {
      "text/html": [
       "<div>\n",
       "<style scoped>\n",
       "    .dataframe tbody tr th:only-of-type {\n",
       "        vertical-align: middle;\n",
       "    }\n",
       "\n",
       "    .dataframe tbody tr th {\n",
       "        vertical-align: top;\n",
       "    }\n",
       "\n",
       "    .dataframe thead th {\n",
       "        text-align: right;\n",
       "    }\n",
       "</style>\n",
       "<table border=\"1\" class=\"dataframe\">\n",
       "  <thead>\n",
       "    <tr style=\"text-align: right;\">\n",
       "      <th></th>\n",
       "      <th>author</th>\n",
       "      <th>comments</th>\n",
       "      <th>id</th>\n",
       "      <th>permalink</th>\n",
       "      <th>score</th>\n",
       "      <th>time</th>\n",
       "      <th>title</th>\n",
       "    </tr>\n",
       "  </thead>\n",
       "  <tbody>\n",
       "    <tr>\n",
       "      <th>93</th>\n",
       "      <td>bluepingu</td>\n",
       "      <td>18</td>\n",
       "      <td>2nzc53</td>\n",
       "      <td>/r/thenetherlands/comments/2nzc53/sinterklaas_...</td>\n",
       "      <td>13</td>\n",
       "      <td>Mon Dec  1 22:49:57 2014</td>\n",
       "      <td>Sinterklaas gedicht vraag (English)</td>\n",
       "    </tr>\n",
       "    <tr>\n",
       "      <th>94</th>\n",
       "      <td>TonyQuark</td>\n",
       "      <td>22</td>\n",
       "      <td>2jlofo</td>\n",
       "      <td>/r/thenetherlands/comments/2jlofo/please_read_...</td>\n",
       "      <td>11</td>\n",
       "      <td>Sat Oct 18 14:12:49 2014</td>\n",
       "      <td>Please read: Announcing link flair, including ...</td>\n",
       "    </tr>\n",
       "  </tbody>\n",
       "</table>\n",
       "</div>"
      ],
      "text/plain": [
       "       author  comments      id  \\\n",
       "93  bluepingu        18  2nzc53   \n",
       "94  TonyQuark        22  2jlofo   \n",
       "\n",
       "                                            permalink  score  \\\n",
       "93  /r/thenetherlands/comments/2nzc53/sinterklaas_...     13   \n",
       "94  /r/thenetherlands/comments/2jlofo/please_read_...     11   \n",
       "\n",
       "                        time  \\\n",
       "93  Mon Dec  1 22:49:57 2014   \n",
       "94  Sat Oct 18 14:12:49 2014   \n",
       "\n",
       "                                                title  \n",
       "93                Sinterklaas gedicht vraag (English)  \n",
       "94  Please read: Announcing link flair, including ...  "
      ]
     },
     "execution_count": 11,
     "metadata": {},
     "output_type": "execute_result"
    }
   ],
   "source": [
    "# Same thing in dataframe.\n",
    "df_c = pd.DataFrame(c_posts)\n",
    "df_c.tail(2)"
   ]
  },
  {
   "cell_type": "code",
   "execution_count": 258,
   "metadata": {},
   "outputs": [
    {
     "name": "stdout",
     "output_type": "stream",
     "text": [
      "6592 comments totaal\n"
     ]
    }
   ],
   "source": [
    "# Counting comments based on Reddit API data\n",
    "# However, this is including 'MoreComments' - which we are not scraping.\n",
    "total = df_c[\"comments\"].sum()\n",
    "print(f'{total} comments totaal')"
   ]
  },
  {
   "cell_type": "code",
   "execution_count": 12,
   "metadata": {},
   "outputs": [
    {
     "name": "stdout",
     "output_type": "stream",
     "text": [
      "Thread 1 of 95 scraped for comments\n",
      "Thread 2 of 95 scraped for comments\n",
      "Thread 3 of 95 scraped for comments\n",
      "Thread 4 of 95 scraped for comments\n",
      "Thread 5 of 95 scraped for comments\n",
      "Thread 6 of 95 scraped for comments\n",
      "Thread 7 of 95 scraped for comments\n",
      "Thread 8 of 95 scraped for comments\n",
      "Thread 9 of 95 scraped for comments\n",
      "Thread 10 of 95 scraped for comments\n",
      "Thread 11 of 95 scraped for comments\n",
      "Thread 12 of 95 scraped for comments\n",
      "Thread 13 of 95 scraped for comments\n",
      "Thread 14 of 95 scraped for comments\n",
      "Thread 15 of 95 scraped for comments\n",
      "Thread 16 of 95 scraped for comments\n",
      "Thread 17 of 95 scraped for comments\n",
      "Thread 18 of 95 scraped for comments\n",
      "Thread 19 of 95 scraped for comments\n",
      "Thread 20 of 95 scraped for comments\n",
      "Thread 21 of 95 scraped for comments\n",
      "Thread 22 of 95 scraped for comments\n",
      "Thread 23 of 95 scraped for comments\n",
      "Thread 24 of 95 scraped for comments\n",
      "Thread 25 of 95 scraped for comments\n",
      "Thread 26 of 95 scraped for comments\n",
      "Thread 27 of 95 scraped for comments\n",
      "Thread 28 of 95 scraped for comments\n",
      "Thread 29 of 95 scraped for comments\n",
      "Thread 30 of 95 scraped for comments\n",
      "Thread 31 of 95 scraped for comments\n",
      "Thread 32 of 95 scraped for comments\n",
      "Thread 33 of 95 scraped for comments\n",
      "Thread 34 of 95 scraped for comments\n",
      "Thread 35 of 95 scraped for comments\n",
      "Thread 36 of 95 scraped for comments\n",
      "Thread 37 of 95 scraped for comments\n",
      "Thread 38 of 95 scraped for comments\n",
      "Thread 39 of 95 scraped for comments\n",
      "Thread 40 of 95 scraped for comments\n",
      "Thread 41 of 95 scraped for comments\n",
      "Thread 42 of 95 scraped for comments\n",
      "Thread 43 of 95 scraped for comments\n",
      "Thread 44 of 95 scraped for comments\n",
      "Thread 45 of 95 scraped for comments\n",
      "Thread 46 of 95 scraped for comments\n",
      "Thread 47 of 95 scraped for comments\n",
      "Thread 48 of 95 scraped for comments\n",
      "Thread 49 of 95 scraped for comments\n",
      "Thread 50 of 95 scraped for comments\n",
      "Thread 51 of 95 scraped for comments\n",
      "Thread 52 of 95 scraped for comments\n",
      "Thread 53 of 95 scraped for comments\n",
      "Thread 54 of 95 scraped for comments\n",
      "Thread 55 of 95 scraped for comments\n",
      "Thread 56 of 95 scraped for comments\n",
      "Thread 57 of 95 scraped for comments\n",
      "Thread 58 of 95 scraped for comments\n",
      "Thread 59 of 95 scraped for comments\n",
      "Thread 60 of 95 scraped for comments\n",
      "Thread 61 of 95 scraped for comments\n",
      "Thread 62 of 95 scraped for comments\n",
      "Thread 63 of 95 scraped for comments\n",
      "Thread 64 of 95 scraped for comments\n",
      "Thread 65 of 95 scraped for comments\n",
      "Thread 66 of 95 scraped for comments\n",
      "Thread 67 of 95 scraped for comments\n",
      "Thread 68 of 95 scraped for comments\n",
      "Thread 69 of 95 scraped for comments\n",
      "Thread 70 of 95 scraped for comments\n",
      "Thread 71 of 95 scraped for comments\n",
      "Thread 72 of 95 scraped for comments\n",
      "Thread 73 of 95 scraped for comments\n",
      "Thread 74 of 95 scraped for comments\n",
      "Thread 75 of 95 scraped for comments\n",
      "Thread 76 of 95 scraped for comments\n",
      "Thread 77 of 95 scraped for comments\n",
      "Thread 78 of 95 scraped for comments\n",
      "Thread 79 of 95 scraped for comments\n",
      "Thread 80 of 95 scraped for comments\n",
      "Thread 81 of 95 scraped for comments\n",
      "Thread 82 of 95 scraped for comments\n",
      "Thread 83 of 95 scraped for comments\n",
      "Thread 84 of 95 scraped for comments\n",
      "Thread 85 of 95 scraped for comments\n",
      "Thread 86 of 95 scraped for comments\n",
      "Thread 87 of 95 scraped for comments\n",
      "Thread 88 of 95 scraped for comments\n",
      "Thread 89 of 95 scraped for comments\n",
      "Thread 90 of 95 scraped for comments\n",
      "Thread 91 of 95 scraped for comments\n",
      "Thread 92 of 95 scraped for comments\n",
      "Thread 93 of 95 scraped for comments\n",
      "Thread 94 of 95 scraped for comments\n",
      "Thread 95 of 95 scraped for comments\n"
     ]
    }
   ],
   "source": [
    "# Scraping the actual comments from the individual Reddit Threads. \n",
    "\n",
    "all_comments = []\n",
    "index = 0\n",
    "\n",
    "for item in c_posts:\n",
    "    page_id = item[\"id\"]\n",
    "    submission = api.submission(id=page_id)\n",
    "    for comment in submission.comments:\n",
    "        if isinstance(comment, praw.models.MoreComments):\n",
    "            continue\n",
    "        item = {\n",
    "        \"author\" : comment.author,\n",
    "        \"score\" : comment.score,\n",
    "        \"body\": comment.body\n",
    "        }\n",
    "        all_comments.append(item)\n",
    "    \n",
    "    #Giving some feedback on scraper progress\n",
    "    index = index + 1\n",
    "    print(f'Thread {index} of {c_posts_amount} scraped for comments.')"
   ]
  },
  {
   "cell_type": "code",
   "execution_count": 260,
   "metadata": {},
   "outputs": [],
   "source": [
    "all_df = pd.DataFrame(all_comments)"
   ]
  },
  {
   "cell_type": "code",
   "execution_count": 262,
   "metadata": {},
   "outputs": [
    {
     "data": {
      "text/html": [
       "<div>\n",
       "<style scoped>\n",
       "    .dataframe tbody tr th:only-of-type {\n",
       "        vertical-align: middle;\n",
       "    }\n",
       "\n",
       "    .dataframe tbody tr th {\n",
       "        vertical-align: top;\n",
       "    }\n",
       "\n",
       "    .dataframe thead th {\n",
       "        text-align: right;\n",
       "    }\n",
       "</style>\n",
       "<table border=\"1\" class=\"dataframe\">\n",
       "  <thead>\n",
       "    <tr style=\"text-align: right;\">\n",
       "      <th></th>\n",
       "      <th>author</th>\n",
       "      <th>body</th>\n",
       "      <th>score</th>\n",
       "    </tr>\n",
       "  </thead>\n",
       "  <tbody>\n",
       "    <tr>\n",
       "      <th>1035</th>\n",
       "      <td>Heep_Purple</td>\n",
       "      <td>To add to that: there's a big blue button unde...</td>\n",
       "      <td>4</td>\n",
       "    </tr>\n",
       "    <tr>\n",
       "      <th>1036</th>\n",
       "      <td>theorionman</td>\n",
       "      <td>Okay, I'll start the mandatory complaining (I'...</td>\n",
       "      <td>9</td>\n",
       "    </tr>\n",
       "    <tr>\n",
       "      <th>1037</th>\n",
       "      <td>Araikaze</td>\n",
       "      <td>The new flairs look very useful, but I think t...</td>\n",
       "      <td>4</td>\n",
       "    </tr>\n",
       "    <tr>\n",
       "      <th>1038</th>\n",
       "      <td>Astilaroth</td>\n",
       "      <td>ARGH VERANDERINGEN ARGH ARGH.\\n\\npersoonlijk v...</td>\n",
       "      <td>2</td>\n",
       "    </tr>\n",
       "    <tr>\n",
       "      <th>1039</th>\n",
       "      <td>Shizly</td>\n",
       "      <td>Zo, de flaires zijn echt snel aangepast. Netje...</td>\n",
       "      <td>3</td>\n",
       "    </tr>\n",
       "    <tr>\n",
       "      <th>1040</th>\n",
       "      <td>SonOfOrange</td>\n",
       "      <td>just a heads up, the 'how-to' link is not acce...</td>\n",
       "      <td>2</td>\n",
       "    </tr>\n",
       "    <tr>\n",
       "      <th>1041</th>\n",
       "      <td>vlepun</td>\n",
       "      <td>Nou ja zeg, niet eens de OP in twee talen! WAT...</td>\n",
       "      <td>2</td>\n",
       "    </tr>\n",
       "    <tr>\n",
       "      <th>1042</th>\n",
       "      <td>Shizly</td>\n",
       "      <td>Ik vind de flairs handig, maar wel veel en dan...</td>\n",
       "      <td>1</td>\n",
       "    </tr>\n",
       "    <tr>\n",
       "      <th>1043</th>\n",
       "      <td>NotTheInkfish</td>\n",
       "      <td>Wat grijs allemaal, kunnen er niet leukere kle...</td>\n",
       "      <td>1</td>\n",
       "    </tr>\n",
       "    <tr>\n",
       "      <th>1044</th>\n",
       "      <td>None</td>\n",
       "      <td>[deleted]</td>\n",
       "      <td>1</td>\n",
       "    </tr>\n",
       "  </tbody>\n",
       "</table>\n",
       "</div>"
      ],
      "text/plain": [
       "             author                                               body  score\n",
       "1035    Heep_Purple  To add to that: there's a big blue button unde...      4\n",
       "1036    theorionman  Okay, I'll start the mandatory complaining (I'...      9\n",
       "1037       Araikaze  The new flairs look very useful, but I think t...      4\n",
       "1038     Astilaroth  ARGH VERANDERINGEN ARGH ARGH.\\n\\npersoonlijk v...      2\n",
       "1039         Shizly  Zo, de flaires zijn echt snel aangepast. Netje...      3\n",
       "1040    SonOfOrange  just a heads up, the 'how-to' link is not acce...      2\n",
       "1041         vlepun  Nou ja zeg, niet eens de OP in twee talen! WAT...      2\n",
       "1042         Shizly  Ik vind de flairs handig, maar wel veel en dan...      1\n",
       "1043  NotTheInkfish  Wat grijs allemaal, kunnen er niet leukere kle...      1\n",
       "1044           None                                          [deleted]      1"
      ]
     },
     "execution_count": 262,
     "metadata": {},
     "output_type": "execute_result"
    }
   ],
   "source": [
    "# Showing the last 10 comments, so we know how many comments the scraper actually collected.\n",
    "all_df.tail(10)"
   ]
  },
  {
   "cell_type": "code",
   "execution_count": 263,
   "metadata": {},
   "outputs": [],
   "source": [
    "# Cleaing up the data with some regexing (getting rid of meaningless junk symbols etc.)\n",
    "all_df[\"body\"] = all_df['body'].str.replace(\"[^ABCDEFGHIJKLMNOPQRSTUVWXYZabcdefghijklmnopqrstuvwxyz ]\", \"\")\n",
    "\n",
    "# Also sorting by most common words, putting it into workable dataframe\n",
    "topwords = pd.Series(\" \".join(all_df[\"body\"]).lower().split()).value_counts()[:300]\n",
    "topwords = pd.DataFrame(topwords)\n",
    "topwords['actual_word'] = topwords.index\n",
    "topwords = topwords.rename(columns={ topwords.columns[0]: \"amount\" })"
   ]
  },
  {
   "cell_type": "code",
   "execution_count": 266,
   "metadata": {},
   "outputs": [
    {
     "data": {
      "text/html": [
       "<div>\n",
       "<style scoped>\n",
       "    .dataframe tbody tr th:only-of-type {\n",
       "        vertical-align: middle;\n",
       "    }\n",
       "\n",
       "    .dataframe tbody tr th {\n",
       "        vertical-align: top;\n",
       "    }\n",
       "\n",
       "    .dataframe thead th {\n",
       "        text-align: right;\n",
       "    }\n",
       "</style>\n",
       "<table border=\"1\" class=\"dataframe\">\n",
       "  <thead>\n",
       "    <tr style=\"text-align: right;\">\n",
       "      <th></th>\n",
       "      <th>amount</th>\n",
       "      <th>actual_word</th>\n",
       "    </tr>\n",
       "  </thead>\n",
       "  <tbody>\n",
       "    <tr>\n",
       "      <th>de</th>\n",
       "      <td>1520</td>\n",
       "      <td>de</td>\n",
       "    </tr>\n",
       "    <tr>\n",
       "      <th>het</th>\n",
       "      <td>1220</td>\n",
       "      <td>het</td>\n",
       "    </tr>\n",
       "    <tr>\n",
       "      <th>een</th>\n",
       "      <td>1025</td>\n",
       "      <td>een</td>\n",
       "    </tr>\n",
       "    <tr>\n",
       "      <th>dat</th>\n",
       "      <td>934</td>\n",
       "      <td>dat</td>\n",
       "    </tr>\n",
       "    <tr>\n",
       "      <th>is</th>\n",
       "      <td>870</td>\n",
       "      <td>is</td>\n",
       "    </tr>\n",
       "    <tr>\n",
       "      <th>van</th>\n",
       "      <td>830</td>\n",
       "      <td>van</td>\n",
       "    </tr>\n",
       "    <tr>\n",
       "      <th>en</th>\n",
       "      <td>812</td>\n",
       "      <td>en</td>\n",
       "    </tr>\n",
       "    <tr>\n",
       "      <th>ik</th>\n",
       "      <td>753</td>\n",
       "      <td>ik</td>\n",
       "    </tr>\n",
       "    <tr>\n",
       "      <th>niet</th>\n",
       "      <td>630</td>\n",
       "      <td>niet</td>\n",
       "    </tr>\n",
       "    <tr>\n",
       "      <th>in</th>\n",
       "      <td>592</td>\n",
       "      <td>in</td>\n",
       "    </tr>\n",
       "  </tbody>\n",
       "</table>\n",
       "</div>"
      ],
      "text/plain": [
       "      amount actual_word\n",
       "de      1520          de\n",
       "het     1220         het\n",
       "een     1025         een\n",
       "dat      934         dat\n",
       "is       870          is\n",
       "van      830         van\n",
       "en       812          en\n",
       "ik       753          ik\n",
       "niet     630        niet\n",
       "in       592          in"
      ]
     },
     "execution_count": 266,
     "metadata": {},
     "output_type": "execute_result"
    }
   ],
   "source": [
    "# showing the most common words\n",
    "topwords.head(10)"
   ]
  },
  {
   "cell_type": "code",
   "execution_count": 342,
   "metadata": {},
   "outputs": [],
   "source": [
    "# So yeah, this is a problem. \n",
    "# We gotta delete some standard/stopwords and small words to get a more meaningful picture of words being used. \n",
    "\n",
    "morethanfour = []\n",
    "forbidden_words = [\"mensen\",\"vind\",\"gewoon\",\"weer\",\"zelf\",\"iedereen\",\"willen\",\"laten\",\"juist\",\"that\",\"word\",\"staan\",\"waren\",\"artikel\",\"werd\",\"bent\",\"geweest\",\"zitten\",\"weten\",\"genoeg\",\"ander\",\"lang\",\"persoon\",\"best\",\"gebruiken\",\"hadden\",\"bijvoorbeeld\",\"tussen\",\"hand\",\"zitten\",\"bent\",\"geweest\",\"waarom\",\"zeggen\",\"zoals\",\"paar\",\"misschien\",\"zien\",\"zich\",\"altijd\",\"naar\",\"gezien\",\"mijn\",\"want\",\"beetje\",\"echt\",\"niet\",\"maar\",\"zijn\",\"voor\",\"achter\",\"over\",\"onder\",\"hebben\", \"door\",\"meer\",\"heeft\",\"hier\",\"geven\",\"niets\",\"niks\",\"laat\",\"eigenlijk\",\"zullen\",\"iemand\",\"steeds\",\"deleted\",\"lijkt\",\"komen\",\"komt\",\"geen\",\"worden\",\"wordt\",\"helemaal\",\"kunnen\",\"alsof\",\"even\",\"deze\",\"heel\",\"alleen\",\"hele\",\"veel\",\"waar\",\"moeten\",\"omdat\",\"toch\",\"worden\",\"wordt\",\"gaan\",\"moet\",\"andere\",\"eens\",\"doen\",\"daar\",\"iets\",\"gaat\",\"maken\",\"nooit\",\"allemaal\",\"alle\",\"manier\",\"anders\",\"grote\",\"weet\",\"dingen\",\"denken\",\"vraag\",\"alles\",\"this\",\"enige\",\"maakt\",\"krijgen\",\"doet\",\"ziet\",\"zegt\",\"zouden\",\"zonder\",\"keer\",\"alsof\"]\n",
    "#stopwords = pd.read_csv('stopwords.csv')\n",
    "\n",
    "index = 0\n",
    "\n",
    "for word in topwords[\"actual_word\"]:\n",
    "    freq = topwords[\"amount\"][index]\n",
    "    index = index + 1\n",
    "    if len(word) >= 4 and word not in forbidden_words: # and word not in stopwords:\n",
    "        item = {\n",
    "            \"word\": word,\n",
    "            \"frequency\": freq\n",
    "        }\n",
    "        morethanfour.append(item)"
   ]
  },
  {
   "cell_type": "code",
   "execution_count": 360,
   "metadata": {},
   "outputs": [
    {
     "data": {
      "text/html": [
       "<div>\n",
       "<style scoped>\n",
       "    .dataframe tbody tr th:only-of-type {\n",
       "        vertical-align: middle;\n",
       "    }\n",
       "\n",
       "    .dataframe tbody tr th {\n",
       "        vertical-align: top;\n",
       "    }\n",
       "\n",
       "    .dataframe thead th {\n",
       "        text-align: right;\n",
       "    }\n",
       "</style>\n",
       "<table border=\"1\" class=\"dataframe\">\n",
       "  <thead>\n",
       "    <tr style=\"text-align: right;\">\n",
       "      <th></th>\n",
       "      <th>frequency</th>\n",
       "      <th>word</th>\n",
       "    </tr>\n",
       "  </thead>\n",
       "  <tbody>\n",
       "    <tr>\n",
       "      <th>0</th>\n",
       "      <td>486</td>\n",
       "      <td>zwarte</td>\n",
       "    </tr>\n",
       "    <tr>\n",
       "      <th>1</th>\n",
       "      <td>429</td>\n",
       "      <td>piet</td>\n",
       "    </tr>\n",
       "    <tr>\n",
       "      <th>2</th>\n",
       "      <td>117</td>\n",
       "      <td>discussie</td>\n",
       "    </tr>\n",
       "    <tr>\n",
       "      <th>3</th>\n",
       "      <td>102</td>\n",
       "      <td>kinderen</td>\n",
       "    </tr>\n",
       "    <tr>\n",
       "      <th>4</th>\n",
       "      <td>89</td>\n",
       "      <td>tegen</td>\n",
       "    </tr>\n",
       "    <tr>\n",
       "      <th>5</th>\n",
       "      <td>86</td>\n",
       "      <td>pieten</td>\n",
       "    </tr>\n",
       "    <tr>\n",
       "      <th>6</th>\n",
       "      <td>85</td>\n",
       "      <td>sinterklaas</td>\n",
       "    </tr>\n",
       "    <tr>\n",
       "      <th>7</th>\n",
       "      <td>82</td>\n",
       "      <td>nederland</td>\n",
       "    </tr>\n",
       "    <tr>\n",
       "      <th>8</th>\n",
       "      <td>71</td>\n",
       "      <td>jaar</td>\n",
       "    </tr>\n",
       "    <tr>\n",
       "      <th>9</th>\n",
       "      <td>69</td>\n",
       "      <td>goed</td>\n",
       "    </tr>\n",
       "  </tbody>\n",
       "</table>\n",
       "</div>"
      ],
      "text/plain": [
       "   frequency         word\n",
       "0        486       zwarte\n",
       "1        429         piet\n",
       "2        117    discussie\n",
       "3        102     kinderen\n",
       "4         89        tegen\n",
       "5         86       pieten\n",
       "6         85  sinterklaas\n",
       "7         82    nederland\n",
       "8         71         jaar\n",
       "9         69         goed"
      ]
     },
     "execution_count": 360,
     "metadata": {},
     "output_type": "execute_result"
    }
   ],
   "source": [
    "# Checking if we got some meaningful results now.\n",
    "mcw_cleaned = pd.DataFrame(morethanfour)\n",
    "mcw_cleaned.head(10)"
   ]
  },
  {
   "cell_type": "code",
   "execution_count": 373,
   "metadata": {},
   "outputs": [
    {
     "data": {
      "text/plain": [
       "<matplotlib.axes._subplots.AxesSubplot at 0x1c77eb446d8>"
      ]
     },
     "execution_count": 373,
     "metadata": {},
     "output_type": "execute_result"
    },
    {
     "data": {
      "image/png": "[encoded data removed]",
      "text/plain": [
       "<Figure size 1440x576 with 1 Axes>"
      ]
     },
     "metadata": {},
     "output_type": "display_data"
    },
    {
     "data": {
      "image/png": "[encoded data removed]",
      "text/plain": [
       "<Figure size 1440x864 with 1 Axes>"
      ]
     },
     "metadata": {},
     "output_type": "display_data"
    },
    {
     "data": {
      "image/png": "[encoded data removed]",
      "text/plain": [
       "<Figure size 1440x864 with 1 Axes>"
      ]
     },
     "metadata": {},
     "output_type": "display_data"
    }
   ],
   "source": [
    "# Visualizing our results. \n",
    "words_bargraph = mcw_cleaned.plot(kind=\"bar\",x=\"word\",figsize=(20,8))\n",
    "head_bargraph = mcw_cleaned.head(35)\n",
    "head_bargraph.plot(kind=\"barh\",x=\"word\",figsize=(20,12), title=\"Most occuring words.\", fontsize=\"15\")\n",
    "tail_bargraph = mcw_cleaned.tail(35)\n",
    "tail_bargraph.plot(kind=\"barh\",x=\"word\",figsize=(20,12), title=\"Other reoccuring words.\", fontsize=\"15\")"
   ]
  },
  {
   "cell_type": "code",
   "execution_count": 350,
   "metadata": {},
   "outputs": [
    {
     "data": {
      "text/plain": [
       "<wordcloud.wordcloud.WordCloud at 0x1c77b00af98>"
      ]
     },
     "execution_count": 350,
     "metadata": {},
     "output_type": "execute_result"
    }
   ],
   "source": [
    "# Converting the text into one big string, so we can use it as a WordCloud. \n",
    "wordcloud_text_list = []\n",
    "\n",
    "for item in morethanfour:\n",
    "    freq = item[\"frequency\"]\n",
    "    word = item[\"word\"] \n",
    "    wordspam = freq * (word + \".\")\n",
    "    wordspam = wordspam.split(\".\")\n",
    "    if item is not '':\n",
    "        wordcloud_text_list.extend(wordspam)\n",
    "\n",
    "# Randomizing order of words, else WordCloud library acts in a weird way...\n",
    "random.shuffle(wordcloud_text_list)        \n",
    "wordcloud_text = ' '.join(wordcloud_text_list)\n",
    "\n",
    "# Creating wordcloud\n",
    "mask = np.array(Image.open(\"wordcloudBG.png\"))\n",
    "wc = WordCloud(background_color=\"white\",mask=mask,max_words=250)\n",
    "wc.generate(wordcloud_text)\n",
    "wc.to_file(\"reddit_wordcloud.png\")"
   ]
  },
  {
   "cell_type": "code",
   "execution_count": null,
   "metadata": {},
   "outputs": [],
   "source": [
    "# eventueel nog twitter/fb... minder anoniem..."
   ]
  }
 ],
 "metadata": {
  "kernelspec": {
   "display_name": "Python 3",
   "language": "python",
   "name": "python3"
  },
  "language_info": {
   "codemirror_mode": {
    "name": "ipython",
    "version": 3
   },
   "file_extension": ".py",
   "mimetype": "text/x-python",
   "name": "python",
   "nbconvert_exporter": "python",
   "pygments_lexer": "ipython3",
   "version": "3.6.5"
  }
 },
 "nbformat": 4,
 "nbformat_minor": 2
}
