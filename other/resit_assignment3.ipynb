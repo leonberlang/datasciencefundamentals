{
 "cells": [
  {
   "cell_type": "code",
   "execution_count": 1,
   "metadata": {},
   "outputs": [],
   "source": [
    "# Import the requests module and the display, Image and HTML functions from the IPython.display module \n",
    "# and optionally the pandas module.\n",
    "import requests\n",
    "import json\n",
    "from IPython.display import display, Image, HTML\n",
    "import pandas as pd"
   ]
  },
  {
   "cell_type": "code",
   "execution_count": 2,
   "metadata": {},
   "outputs": [
    {
     "name": "stdout",
     "output_type": "stream",
     "text": [
      "Welcome! With this tool you can search articles within github repos. You can search in the following langauges: \n",
      "- python\n",
      "- javascript\n",
      "- php\n",
      "- java\n",
      "- ruby\n",
      "\n",
      "Please choose your programming language of choice (from the list): python\n",
      "Please enter your search query: lists\n",
      "\n",
      "good! we are searching for 'lists' in python projects.\n"
     ]
    }
   ],
   "source": [
    "# Ask the user for a programming language that they want to use for their search query. \n",
    "# Make sure to show the user which languages are available (you can choose which languages are available). \n",
    "# Also do input validation so that the language is valid.\n",
    "\n",
    "print(\"Welcome! With this tool you can search articles within github repos. You can search in the following langauges: \")\n",
    "programming_languages = [\"python\",\"javascript\",\"php\",\"java\",\"ruby\"]\n",
    "\n",
    "for language in programming_languages:\n",
    "    print(f'- {language}')\n",
    "\n",
    "language_input = input(\"\\nPlease choose your programming language of choice (from the list): \").lower().strip()\n",
    "while language_input not in programming_languages:\n",
    "    print(\"Please choose a programming language from the list.\")\n",
    "    language_input = input(\"Programming language of choice: \").lower().strip()\n",
    "\n",
    "#Ask the user for a search query. Do input sanitization on this query (like stripping and lowercasing).\n",
    "searchquery_input = input(\"Please enter your search query: \").lower().strip()\n",
    "\n",
    "print(\"\")\n",
    "print(f\"good! we are searching for '{searchquery_input}' in {language_input} projects.\")"
   ]
  },
  {
   "cell_type": "code",
   "execution_count": 3,
   "metadata": {},
   "outputs": [
    {
     "name": "stdout",
     "output_type": "stream",
     "text": [
      "Doing a query for https://api.github.com/search/repositories?q=lists+language:python&sort=stars&order=desc\n",
      "we fine - statuscode 200.\n"
     ]
    }
   ],
   "source": [
    "# Use the Github search repositories API (https://developer.github.com/v3/search/#search-repositories) \n",
    "# to search for repositories with the search query, in the programming language the user has supplied and sorted by stars.\n",
    "url = f\"https://api.github.com/search/repositories?q={searchquery_input}+language:{language_input}&sort=stars&order=desc\"\n",
    "req = requests.get(url)\n",
    "\n",
    "# Give feedback to the user that you are doing a HTTP call.\n",
    "print(f'Doing a query for {url}')\n",
    "\n",
    "# Check if the status code is 200, and if not, show an error message.\n",
    "statuscode = req.status_code\n",
    "if statuscode != 200:\n",
    "    print(f'yikes. something is going wrong, error code {statuscode}')\n",
    "else:\n",
    "    print(f'we fine - statuscode {statuscode}.')\n",
    "    \n",
    "data = json.loads(req.text)"
   ]
  },
  {
   "cell_type": "code",
   "execution_count": 4,
   "metadata": {},
   "outputs": [
    {
     "name": "stdout",
     "output_type": "stream",
     "text": [
      "Total amount of search results: 3316\n"
     ]
    }
   ],
   "source": [
    "#Show the total_count of search results.\n",
    "print(f\"Total amount of search results: {data['total_count']}\")"
   ]
  },
  {
   "cell_type": "code",
   "execution_count": 5,
   "metadata": {},
   "outputs": [],
   "source": [
    "# Transform the search items to a new list with dictionaries containing the repository name, description, number of ‘stargazers’ and the username (‘login’) of the owner.\n",
    "search_items = data[\"items\"]\n",
    "projects = []\n",
    "\n",
    "for item in search_items:\n",
    "    repo = { \n",
    "        \"repo-name\" : item[\"name\"],\n",
    "        \"description\" : item[\"description\"],\n",
    "        \"stargazers\" : item[\"stargazers_count\"],\n",
    "        \"author\" : item[\"owner\"][\"login\"]\n",
    "    }\n",
    "    projects.append(repo)"
   ]
  },
  {
   "cell_type": "code",
   "execution_count": 6,
   "metadata": {},
   "outputs": [
    {
     "name": "stdout",
     "output_type": "stream",
     "text": [
      "Here are the first 5 results:\n"
     ]
    },
    {
     "data": {
      "text/html": [
       "<div>\n",
       "<style scoped>\n",
       "    .dataframe tbody tr th:only-of-type {\n",
       "        vertical-align: middle;\n",
       "    }\n",
       "\n",
       "    .dataframe tbody tr th {\n",
       "        vertical-align: top;\n",
       "    }\n",
       "\n",
       "    .dataframe thead th {\n",
       "        text-align: right;\n",
       "    }\n",
       "</style>\n",
       "<table border=\"1\" class=\"dataframe\">\n",
       "  <thead>\n",
       "    <tr style=\"text-align: right;\">\n",
       "      <th></th>\n",
       "      <th>author</th>\n",
       "      <th>description</th>\n",
       "      <th>repo-name</th>\n",
       "      <th>stargazers</th>\n",
       "    </tr>\n",
       "  </thead>\n",
       "  <tbody>\n",
       "    <tr>\n",
       "      <th>0</th>\n",
       "      <td>kaxap</td>\n",
       "      <td>lists of most popular repositories for most fa...</td>\n",
       "      <td>arl</td>\n",
       "      <td>948</td>\n",
       "    </tr>\n",
       "    <tr>\n",
       "      <th>1</th>\n",
       "      <td>danielmagnussons</td>\n",
       "      <td>orgmode is for keeping notes, maintaining TODO...</td>\n",
       "      <td>orgmode</td>\n",
       "      <td>706</td>\n",
       "    </tr>\n",
       "    <tr>\n",
       "      <th>2</th>\n",
       "      <td>hollobit</td>\n",
       "      <td>All About the GANs(Generative Adversarial Netw...</td>\n",
       "      <td>All-About-the-GAN</td>\n",
       "      <td>415</td>\n",
       "    </tr>\n",
       "    <tr>\n",
       "      <th>3</th>\n",
       "      <td>proycon</td>\n",
       "      <td>PyNLPl, pronounced as 'pineapple', is a Python...</td>\n",
       "      <td>pynlpl</td>\n",
       "      <td>345</td>\n",
       "    </tr>\n",
       "    <tr>\n",
       "      <th>4</th>\n",
       "      <td>Pylons</td>\n",
       "      <td>A serialization/deserialization/validation lib...</td>\n",
       "      <td>colander</td>\n",
       "      <td>340</td>\n",
       "    </tr>\n",
       "  </tbody>\n",
       "</table>\n",
       "</div>"
      ],
      "text/plain": [
       "             author                                        description  \\\n",
       "0             kaxap  lists of most popular repositories for most fa...   \n",
       "1  danielmagnussons  orgmode is for keeping notes, maintaining TODO...   \n",
       "2          hollobit  All About the GANs(Generative Adversarial Netw...   \n",
       "3           proycon  PyNLPl, pronounced as 'pineapple', is a Python...   \n",
       "4            Pylons  A serialization/deserialization/validation lib...   \n",
       "\n",
       "           repo-name  stargazers  \n",
       "0                arl         948  \n",
       "1            orgmode         706  \n",
       "2  All-About-the-GAN         415  \n",
       "3             pynlpl         345  \n",
       "4           colander         340  "
      ]
     },
     "execution_count": 6,
     "metadata": {},
     "output_type": "execute_result"
    }
   ],
   "source": [
    "df = pd.DataFrame(projects)\n",
    "print(\"Here are the first 5 results:\")\n",
    "df.head(5)"
   ]
  },
  {
   "cell_type": "code",
   "execution_count": 7,
   "metadata": {},
   "outputs": [
    {
     "name": "stdout",
     "output_type": "stream",
     "text": [
      "Please select an user from the list (0-4): 0\n"
     ]
    }
   ],
   "source": [
    "# Ask the user to select one of these five items. Do input validation so that the user chooses a valid option.\n",
    "allowed_nrs = list(range(0,5))\n",
    "nr = int(input(\"Please select an user from the list (0-4): \").strip())\n",
    "\n",
    "while nr not in allowed_nrs:\n",
    "    nr = int(input(\"Please select an user from the list (0-4): \").strip())"
   ]
  },
  {
   "cell_type": "code",
   "execution_count": 8,
   "metadata": {},
   "outputs": [
    {
     "name": "stdout",
     "output_type": "stream",
     "text": [
      "Perfect. You chose user 0 (kaxap).\n"
     ]
    }
   ],
   "source": [
    "# Showing the user what option was chosen and getting the related user of that for the API.\n",
    "chosen_user = df['author'][nr]\n",
    "print(f\"Perfect. You chose user {nr} ({chosen_user}).\")"
   ]
  },
  {
   "cell_type": "code",
   "execution_count": 9,
   "metadata": {},
   "outputs": [
    {
     "name": "stdout",
     "output_type": "stream",
     "text": [
      "Doing a query for https://api.github.com/users/kaxap\n",
      "we fine - statuscode 200.\n"
     ]
    }
   ],
   "source": [
    "# Use the Github user API to get details on this user. \n",
    "url = f\"https://api.github.com/users/{chosen_user}\"\n",
    "req = requests.get(url)\n",
    "\n",
    "# Give feedback to the user that you are doing a HTTP call.\n",
    "print(f'Doing a query for {url}')\n",
    "\n",
    "# Check if the status code is 200, and if not, show an error message.\n",
    "statuscode = req.status_code\n",
    "if statuscode != 200:\n",
    "    print(f'yikes. something is going wrong, error code {statuscode}')\n",
    "else:\n",
    "    print(f'we fine - statuscode {statuscode}.')\n",
    "    \n",
    "user_info = json.loads(req.text)"
   ]
  },
  {
   "cell_type": "code",
   "execution_count": 10,
   "metadata": {},
   "outputs": [
    {
     "name": "stdout",
     "output_type": "stream",
     "text": [
      "Name: This user has no public name available.\n",
      "Total public repositories available: 34\n",
      "Bio: This user has no bio.\n",
      "\n",
      "User Avatar:\n"
     ]
    },
    {
     "data": {
      "text/html": [
       "<img src=\"https://avatars0.githubusercontent.com/u/2851970?v=4\"/>"
      ],
      "text/plain": [
       "<IPython.core.display.Image object>"
      ]
     },
     "metadata": {},
     "output_type": "display_data"
    },
    {
     "data": {
      "text/html": [
       "User profile on Github: <a href=\"https://github.com/kaxap\">Visit this user his/her Github Page!</a><br><br>"
      ],
      "text/plain": [
       "<IPython.core.display.HTML object>"
      ]
     },
     "metadata": {},
     "output_type": "display_data"
    }
   ],
   "source": [
    "# From this API call extract the users name, number of public repos, bio, \n",
    "# the URL to the avatar image and the html_url with the link to the user’s page on Github.\n",
    "name = user_info[\"name\"]\n",
    "public_repos = user_info[\"public_repos\"]\n",
    "bio = user_info[\"bio\"]\n",
    "avatar_url = user_info[\"avatar_url\"]\n",
    "html_url = user_info[\"html_url\"]\n",
    "if not bio:\n",
    "    bio = \"This user has no bio.\"\n",
    "if not name:\n",
    "    name = \"This user has no public name available.\"\n",
    "    \n",
    "# Show the users name, public repos and bio. \n",
    "print(f'Name: {name}')\n",
    "print(f'Total public repositories available: {public_repos}')\n",
    "print(f'Bio: {bio}')\n",
    "\n",
    "# If available, use the Image() and display() functions to show the users avatar image. \n",
    "if not avatar_url:\n",
    "    print(\"This user has no avatar.\")\n",
    "else:\n",
    "    print(\"\")\n",
    "    print(\"User Avatar:\")\n",
    "    img = Image(url = avatar_url)\n",
    "    display(img)\n",
    "\n",
    "# Also provide a clickable hyperlink to the users profile page on Github.\n",
    "display(HTML(f'User profile on Github: <a href=\"{html_url}\">Visit this user his/her Github Page!</a>'))"
   ]
  },
  {
   "cell_type": "code",
   "execution_count": null,
   "metadata": {},
   "outputs": [],
   "source": []
  }
 ],
 "metadata": {
  "kernelspec": {
   "display_name": "Python 3",
   "language": "python",
   "name": "python3"
  },
  "language_info": {
   "codemirror_mode": {
    "name": "ipython",
    "version": 3
   },
   "file_extension": ".py",
   "mimetype": "text/x-python",
   "name": "python",
   "nbconvert_exporter": "python",
   "pygments_lexer": "ipython3",
   "version": "3.6.5"
  }
 },
 "nbformat": 4,
 "nbformat_minor": 2
}
